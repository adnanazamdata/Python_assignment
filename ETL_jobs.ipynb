{
  "nbformat": 4,
  "nbformat_minor": 0,
  "metadata": {
    "colab": {
      "name": "ETL_jobs.ipynb",
      "provenance": [],
      "collapsed_sections": []
    },
    "kernelspec": {
      "name": "python3",
      "display_name": "Python 3"
    },
    "language_info": {
      "name": "python"
    }
  },
  "cells": [
    {
      "cell_type": "markdown",
      "source": [
        "# ETL Job: "
      ],
      "metadata": {
        "id": "8S-lEWJK400c"
      }
    },
    {
      "cell_type": "code",
      "source": [
        "!unzip '/content/developer_survey_2019.zip'"
      ],
      "metadata": {
        "colab": {
          "base_uri": "https://localhost:8080/"
        },
        "id": "7_Vrdtw3pf1z",
        "outputId": "87c0e262-d616-40fd-cb2d-5b6a6aa43764"
      },
      "execution_count": null,
      "outputs": [
        {
          "output_type": "stream",
          "name": "stdout",
          "text": [
            "Archive:  /content/developer_survey_2019.zip\n",
            "  inflating: survey_results_public.csv  \n",
            "  inflating: survey_results_schema.csv  \n",
            "  inflating: so_survey_2019.pdf      \n",
            "   creating: __MACOSX/\n",
            "  inflating: __MACOSX/._so_survey_2019.pdf  \n",
            "  inflating: README_2019.txt         \n",
            "  inflating: __MACOSX/._README_2019.txt  \n"
          ]
        }
      ]
    },
    {
      "cell_type": "code",
      "source": [
        "import pandas as pd\n",
        "import numpy as np"
      ],
      "metadata": {
        "id": "GBpTDZpg47v8"
      },
      "execution_count": null,
      "outputs": []
    },
    {
      "cell_type": "code",
      "source": [
        "schema_df = pd.read_csv('/content/survey_results_schema.csv')\n",
        "schema_df"
      ],
      "metadata": {
        "colab": {
          "base_uri": "https://localhost:8080/",
          "height": 424
        },
        "id": "rTuzw7mx5NMb",
        "outputId": "0ca7a878-b11d-4315-9398-a3addad0ef14"
      },
      "execution_count": null,
      "outputs": [
        {
          "output_type": "execute_result",
          "data": {
            "text/plain": [
              "          Column                                       QuestionText\n",
              "0     Respondent  Randomized respondent ID number (not in order ...\n",
              "1     MainBranch  Which of the following options best describes ...\n",
              "2       Hobbyist                            Do you code as a hobby?\n",
              "3    OpenSourcer        How often do you contribute to open source?\n",
              "4     OpenSource  How do you feel about the quality of open sour...\n",
              "..           ...                                                ...\n",
              "80     Sexuality  Which of the following do you currently identi...\n",
              "81     Ethnicity  Which of the following do you identify as? Ple...\n",
              "82    Dependents  Do you have any dependents (e.g., children, el...\n",
              "83  SurveyLength  How do you feel about the length of the survey...\n",
              "84    SurveyEase  How easy or difficult was this survey to compl...\n",
              "\n",
              "[85 rows x 2 columns]"
            ],
            "text/html": [
              "\n",
              "  <div id=\"df-1c34339b-fab9-4154-a978-dfdfb69b2afc\">\n",
              "    <div class=\"colab-df-container\">\n",
              "      <div>\n",
              "<style scoped>\n",
              "    .dataframe tbody tr th:only-of-type {\n",
              "        vertical-align: middle;\n",
              "    }\n",
              "\n",
              "    .dataframe tbody tr th {\n",
              "        vertical-align: top;\n",
              "    }\n",
              "\n",
              "    .dataframe thead th {\n",
              "        text-align: right;\n",
              "    }\n",
              "</style>\n",
              "<table border=\"1\" class=\"dataframe\">\n",
              "  <thead>\n",
              "    <tr style=\"text-align: right;\">\n",
              "      <th></th>\n",
              "      <th>Column</th>\n",
              "      <th>QuestionText</th>\n",
              "    </tr>\n",
              "  </thead>\n",
              "  <tbody>\n",
              "    <tr>\n",
              "      <th>0</th>\n",
              "      <td>Respondent</td>\n",
              "      <td>Randomized respondent ID number (not in order ...</td>\n",
              "    </tr>\n",
              "    <tr>\n",
              "      <th>1</th>\n",
              "      <td>MainBranch</td>\n",
              "      <td>Which of the following options best describes ...</td>\n",
              "    </tr>\n",
              "    <tr>\n",
              "      <th>2</th>\n",
              "      <td>Hobbyist</td>\n",
              "      <td>Do you code as a hobby?</td>\n",
              "    </tr>\n",
              "    <tr>\n",
              "      <th>3</th>\n",
              "      <td>OpenSourcer</td>\n",
              "      <td>How often do you contribute to open source?</td>\n",
              "    </tr>\n",
              "    <tr>\n",
              "      <th>4</th>\n",
              "      <td>OpenSource</td>\n",
              "      <td>How do you feel about the quality of open sour...</td>\n",
              "    </tr>\n",
              "    <tr>\n",
              "      <th>...</th>\n",
              "      <td>...</td>\n",
              "      <td>...</td>\n",
              "    </tr>\n",
              "    <tr>\n",
              "      <th>80</th>\n",
              "      <td>Sexuality</td>\n",
              "      <td>Which of the following do you currently identi...</td>\n",
              "    </tr>\n",
              "    <tr>\n",
              "      <th>81</th>\n",
              "      <td>Ethnicity</td>\n",
              "      <td>Which of the following do you identify as? Ple...</td>\n",
              "    </tr>\n",
              "    <tr>\n",
              "      <th>82</th>\n",
              "      <td>Dependents</td>\n",
              "      <td>Do you have any dependents (e.g., children, el...</td>\n",
              "    </tr>\n",
              "    <tr>\n",
              "      <th>83</th>\n",
              "      <td>SurveyLength</td>\n",
              "      <td>How do you feel about the length of the survey...</td>\n",
              "    </tr>\n",
              "    <tr>\n",
              "      <th>84</th>\n",
              "      <td>SurveyEase</td>\n",
              "      <td>How easy or difficult was this survey to compl...</td>\n",
              "    </tr>\n",
              "  </tbody>\n",
              "</table>\n",
              "<p>85 rows × 2 columns</p>\n",
              "</div>\n",
              "      <button class=\"colab-df-convert\" onclick=\"convertToInteractive('df-1c34339b-fab9-4154-a978-dfdfb69b2afc')\"\n",
              "              title=\"Convert this dataframe to an interactive table.\"\n",
              "              style=\"display:none;\">\n",
              "        \n",
              "  <svg xmlns=\"http://www.w3.org/2000/svg\" height=\"24px\"viewBox=\"0 0 24 24\"\n",
              "       width=\"24px\">\n",
              "    <path d=\"M0 0h24v24H0V0z\" fill=\"none\"/>\n",
              "    <path d=\"M18.56 5.44l.94 2.06.94-2.06 2.06-.94-2.06-.94-.94-2.06-.94 2.06-2.06.94zm-11 1L8.5 8.5l.94-2.06 2.06-.94-2.06-.94L8.5 2.5l-.94 2.06-2.06.94zm10 10l.94 2.06.94-2.06 2.06-.94-2.06-.94-.94-2.06-.94 2.06-2.06.94z\"/><path d=\"M17.41 7.96l-1.37-1.37c-.4-.4-.92-.59-1.43-.59-.52 0-1.04.2-1.43.59L10.3 9.45l-7.72 7.72c-.78.78-.78 2.05 0 2.83L4 21.41c.39.39.9.59 1.41.59.51 0 1.02-.2 1.41-.59l7.78-7.78 2.81-2.81c.8-.78.8-2.07 0-2.86zM5.41 20L4 18.59l7.72-7.72 1.47 1.35L5.41 20z\"/>\n",
              "  </svg>\n",
              "      </button>\n",
              "      \n",
              "  <style>\n",
              "    .colab-df-container {\n",
              "      display:flex;\n",
              "      flex-wrap:wrap;\n",
              "      gap: 12px;\n",
              "    }\n",
              "\n",
              "    .colab-df-convert {\n",
              "      background-color: #E8F0FE;\n",
              "      border: none;\n",
              "      border-radius: 50%;\n",
              "      cursor: pointer;\n",
              "      display: none;\n",
              "      fill: #1967D2;\n",
              "      height: 32px;\n",
              "      padding: 0 0 0 0;\n",
              "      width: 32px;\n",
              "    }\n",
              "\n",
              "    .colab-df-convert:hover {\n",
              "      background-color: #E2EBFA;\n",
              "      box-shadow: 0px 1px 2px rgba(60, 64, 67, 0.3), 0px 1px 3px 1px rgba(60, 64, 67, 0.15);\n",
              "      fill: #174EA6;\n",
              "    }\n",
              "\n",
              "    [theme=dark] .colab-df-convert {\n",
              "      background-color: #3B4455;\n",
              "      fill: #D2E3FC;\n",
              "    }\n",
              "\n",
              "    [theme=dark] .colab-df-convert:hover {\n",
              "      background-color: #434B5C;\n",
              "      box-shadow: 0px 1px 3px 1px rgba(0, 0, 0, 0.15);\n",
              "      filter: drop-shadow(0px 1px 2px rgba(0, 0, 0, 0.3));\n",
              "      fill: #FFFFFF;\n",
              "    }\n",
              "  </style>\n",
              "\n",
              "      <script>\n",
              "        const buttonEl =\n",
              "          document.querySelector('#df-1c34339b-fab9-4154-a978-dfdfb69b2afc button.colab-df-convert');\n",
              "        buttonEl.style.display =\n",
              "          google.colab.kernel.accessAllowed ? 'block' : 'none';\n",
              "\n",
              "        async function convertToInteractive(key) {\n",
              "          const element = document.querySelector('#df-1c34339b-fab9-4154-a978-dfdfb69b2afc');\n",
              "          const dataTable =\n",
              "            await google.colab.kernel.invokeFunction('convertToInteractive',\n",
              "                                                     [key], {});\n",
              "          if (!dataTable) return;\n",
              "\n",
              "          const docLinkHtml = 'Like what you see? Visit the ' +\n",
              "            '<a target=\"_blank\" href=https://colab.research.google.com/notebooks/data_table.ipynb>data table notebook</a>'\n",
              "            + ' to learn more about interactive tables.';\n",
              "          element.innerHTML = '';\n",
              "          dataTable['output_type'] = 'display_data';\n",
              "          await google.colab.output.renderOutput(dataTable, element);\n",
              "          const docLink = document.createElement('div');\n",
              "          docLink.innerHTML = docLinkHtml;\n",
              "          element.appendChild(docLink);\n",
              "        }\n",
              "      </script>\n",
              "    </div>\n",
              "  </div>\n",
              "  "
            ]
          },
          "metadata": {},
          "execution_count": 318
        }
      ]
    },
    {
      "cell_type": "code",
      "source": [
        "df = pd.read_csv(\"/content/survey_results_public.csv\")\n",
        "df"
      ],
      "metadata": {
        "colab": {
          "base_uri": "https://localhost:8080/",
          "height": 1000
        },
        "id": "GLMdTylK5UuL",
        "outputId": "0d256dd4-a935-44f2-af42-f440e9887a5a"
      },
      "execution_count": null,
      "outputs": [
        {
          "output_type": "execute_result",
          "data": {
            "text/plain": [
              "       Respondent                                         MainBranch Hobbyist  \\\n",
              "0               1             I am a student who is learning to code      Yes   \n",
              "1               2             I am a student who is learning to code       No   \n",
              "2               3  I am not primarily a developer, but I write co...      Yes   \n",
              "3               4                     I am a developer by profession       No   \n",
              "4               5                     I am a developer by profession      Yes   \n",
              "...           ...                                                ...      ...   \n",
              "88878       88377                                                NaN      Yes   \n",
              "88879       88601                                                NaN       No   \n",
              "88880       88802                                                NaN       No   \n",
              "88881       88816                                                NaN       No   \n",
              "88882       88863                                                NaN      Yes   \n",
              "\n",
              "                                             OpenSourcer  \\\n",
              "0                                                  Never   \n",
              "1                                Less than once per year   \n",
              "2                                                  Never   \n",
              "3                                                  Never   \n",
              "4                             Once a month or more often   \n",
              "...                                                  ...   \n",
              "88878  Less than once a month but more than once per ...   \n",
              "88879                                              Never   \n",
              "88880                                              Never   \n",
              "88881                                              Never   \n",
              "88882                            Less than once per year   \n",
              "\n",
              "                                              OpenSource  \\\n",
              "0      The quality of OSS and closed source software ...   \n",
              "1      The quality of OSS and closed source software ...   \n",
              "2      The quality of OSS and closed source software ...   \n",
              "3      The quality of OSS and closed source software ...   \n",
              "4      OSS is, on average, of HIGHER quality than pro...   \n",
              "...                                                  ...   \n",
              "88878  The quality of OSS and closed source software ...   \n",
              "88879  The quality of OSS and closed source software ...   \n",
              "88880                                                NaN   \n",
              "88881  OSS is, on average, of HIGHER quality than pro...   \n",
              "88882  OSS is, on average, of HIGHER quality than pro...   \n",
              "\n",
              "                                              Employment  \\\n",
              "0                 Not employed, and not looking for work   \n",
              "1                     Not employed, but looking for work   \n",
              "2                                     Employed full-time   \n",
              "3                                     Employed full-time   \n",
              "4                                     Employed full-time   \n",
              "...                                                  ...   \n",
              "88878             Not employed, and not looking for work   \n",
              "88879                                                NaN   \n",
              "88880                                 Employed full-time   \n",
              "88881  Independent contractor, freelancer, or self-em...   \n",
              "88882             Not employed, and not looking for work   \n",
              "\n",
              "                      Country         Student  \\\n",
              "0              United Kingdom              No   \n",
              "1      Bosnia and Herzegovina  Yes, full-time   \n",
              "2                    Thailand              No   \n",
              "3               United States              No   \n",
              "4                     Ukraine              No   \n",
              "...                       ...             ...   \n",
              "88878                  Canada              No   \n",
              "88879                     NaN             NaN   \n",
              "88880                     NaN             NaN   \n",
              "88881                     NaN             NaN   \n",
              "88882                   Spain  Yes, full-time   \n",
              "\n",
              "                                                 EdLevel  \\\n",
              "0                              Primary/elementary school   \n",
              "1      Secondary school (e.g. American high school, G...   \n",
              "2               Bachelor’s degree (BA, BS, B.Eng., etc.)   \n",
              "3               Bachelor’s degree (BA, BS, B.Eng., etc.)   \n",
              "4               Bachelor’s degree (BA, BS, B.Eng., etc.)   \n",
              "...                                                  ...   \n",
              "88878                          Primary/elementary school   \n",
              "88879                                                NaN   \n",
              "88880                                                NaN   \n",
              "88881                                                NaN   \n",
              "88882                 Professional degree (JD, MD, etc.)   \n",
              "\n",
              "                                          UndergradMajor  ...  \\\n",
              "0                                                    NaN  ...   \n",
              "1                                                    NaN  ...   \n",
              "2                          Web development or web design  ...   \n",
              "3      Computer science, computer engineering, or sof...  ...   \n",
              "4      Computer science, computer engineering, or sof...  ...   \n",
              "...                                                  ...  ...   \n",
              "88878                                                NaN  ...   \n",
              "88879                                                NaN  ...   \n",
              "88880                                                NaN  ...   \n",
              "88881                                                NaN  ...   \n",
              "88882  Computer science, computer engineering, or sof...  ...   \n",
              "\n",
              "                                  WelcomeChange  \\\n",
              "0       Just as welcome now as I felt last year   \n",
              "1       Just as welcome now as I felt last year   \n",
              "2       Just as welcome now as I felt last year   \n",
              "3       Just as welcome now as I felt last year   \n",
              "4       Just as welcome now as I felt last year   \n",
              "...                                         ...   \n",
              "88878                                       NaN   \n",
              "88879                                       NaN   \n",
              "88880                                       NaN   \n",
              "88881                                       NaN   \n",
              "88882  Somewhat less welcome now than last year   \n",
              "\n",
              "                                            SONewContent   Age Gender Trans  \\\n",
              "0      Tech articles written by other developers;Indu...  14.0    Man    No   \n",
              "1      Tech articles written by other developers;Indu...  19.0    Man    No   \n",
              "2      Tech meetups or events in your area;Courses on...  28.0    Man    No   \n",
              "3      Tech articles written by other developers;Indu...  22.0    Man    No   \n",
              "4      Tech meetups or events in your area;Courses on...  30.0    Man    No   \n",
              "...                                                  ...   ...    ...   ...   \n",
              "88878  Tech articles written by other developers;Tech...   NaN    Man    No   \n",
              "88879                                                NaN   NaN    NaN   NaN   \n",
              "88880                                                NaN   NaN    NaN   NaN   \n",
              "88881                                                NaN   NaN    NaN   NaN   \n",
              "88882  Tech articles written by other developers;Indu...  18.0    Man    No   \n",
              "\n",
              "                     Sexuality  \\\n",
              "0      Straight / Heterosexual   \n",
              "1      Straight / Heterosexual   \n",
              "2      Straight / Heterosexual   \n",
              "3      Straight / Heterosexual   \n",
              "4      Straight / Heterosexual   \n",
              "...                        ...   \n",
              "88878                      NaN   \n",
              "88879                      NaN   \n",
              "88880                      NaN   \n",
              "88881                      NaN   \n",
              "88882  Straight / Heterosexual   \n",
              "\n",
              "                                               Ethnicity Dependents  \\\n",
              "0                                                    NaN         No   \n",
              "1                                                    NaN         No   \n",
              "2                                                    NaN        Yes   \n",
              "3                           White or of European descent         No   \n",
              "4               White or of European descent;Multiracial         No   \n",
              "...                                                  ...        ...   \n",
              "88878                                                NaN         No   \n",
              "88879                                                NaN        NaN   \n",
              "88880                                                NaN        NaN   \n",
              "88881                                                NaN        NaN   \n",
              "88882  Hispanic or Latino/Latina;White or of European...         No   \n",
              "\n",
              "                SurveyLength                  SurveyEase  \n",
              "0      Appropriate in length  Neither easy nor difficult  \n",
              "1      Appropriate in length  Neither easy nor difficult  \n",
              "2      Appropriate in length  Neither easy nor difficult  \n",
              "3      Appropriate in length                        Easy  \n",
              "4      Appropriate in length                        Easy  \n",
              "...                      ...                         ...  \n",
              "88878  Appropriate in length                        Easy  \n",
              "88879                    NaN                         NaN  \n",
              "88880                    NaN                         NaN  \n",
              "88881                    NaN                         NaN  \n",
              "88882  Appropriate in length                        Easy  \n",
              "\n",
              "[88883 rows x 85 columns]"
            ],
            "text/html": [
              "\n",
              "  <div id=\"df-ce4a7ab0-a633-4d1e-976d-bd3779ba9f78\">\n",
              "    <div class=\"colab-df-container\">\n",
              "      <div>\n",
              "<style scoped>\n",
              "    .dataframe tbody tr th:only-of-type {\n",
              "        vertical-align: middle;\n",
              "    }\n",
              "\n",
              "    .dataframe tbody tr th {\n",
              "        vertical-align: top;\n",
              "    }\n",
              "\n",
              "    .dataframe thead th {\n",
              "        text-align: right;\n",
              "    }\n",
              "</style>\n",
              "<table border=\"1\" class=\"dataframe\">\n",
              "  <thead>\n",
              "    <tr style=\"text-align: right;\">\n",
              "      <th></th>\n",
              "      <th>Respondent</th>\n",
              "      <th>MainBranch</th>\n",
              "      <th>Hobbyist</th>\n",
              "      <th>OpenSourcer</th>\n",
              "      <th>OpenSource</th>\n",
              "      <th>Employment</th>\n",
              "      <th>Country</th>\n",
              "      <th>Student</th>\n",
              "      <th>EdLevel</th>\n",
              "      <th>UndergradMajor</th>\n",
              "      <th>...</th>\n",
              "      <th>WelcomeChange</th>\n",
              "      <th>SONewContent</th>\n",
              "      <th>Age</th>\n",
              "      <th>Gender</th>\n",
              "      <th>Trans</th>\n",
              "      <th>Sexuality</th>\n",
              "      <th>Ethnicity</th>\n",
              "      <th>Dependents</th>\n",
              "      <th>SurveyLength</th>\n",
              "      <th>SurveyEase</th>\n",
              "    </tr>\n",
              "  </thead>\n",
              "  <tbody>\n",
              "    <tr>\n",
              "      <th>0</th>\n",
              "      <td>1</td>\n",
              "      <td>I am a student who is learning to code</td>\n",
              "      <td>Yes</td>\n",
              "      <td>Never</td>\n",
              "      <td>The quality of OSS and closed source software ...</td>\n",
              "      <td>Not employed, and not looking for work</td>\n",
              "      <td>United Kingdom</td>\n",
              "      <td>No</td>\n",
              "      <td>Primary/elementary school</td>\n",
              "      <td>NaN</td>\n",
              "      <td>...</td>\n",
              "      <td>Just as welcome now as I felt last year</td>\n",
              "      <td>Tech articles written by other developers;Indu...</td>\n",
              "      <td>14.0</td>\n",
              "      <td>Man</td>\n",
              "      <td>No</td>\n",
              "      <td>Straight / Heterosexual</td>\n",
              "      <td>NaN</td>\n",
              "      <td>No</td>\n",
              "      <td>Appropriate in length</td>\n",
              "      <td>Neither easy nor difficult</td>\n",
              "    </tr>\n",
              "    <tr>\n",
              "      <th>1</th>\n",
              "      <td>2</td>\n",
              "      <td>I am a student who is learning to code</td>\n",
              "      <td>No</td>\n",
              "      <td>Less than once per year</td>\n",
              "      <td>The quality of OSS and closed source software ...</td>\n",
              "      <td>Not employed, but looking for work</td>\n",
              "      <td>Bosnia and Herzegovina</td>\n",
              "      <td>Yes, full-time</td>\n",
              "      <td>Secondary school (e.g. American high school, G...</td>\n",
              "      <td>NaN</td>\n",
              "      <td>...</td>\n",
              "      <td>Just as welcome now as I felt last year</td>\n",
              "      <td>Tech articles written by other developers;Indu...</td>\n",
              "      <td>19.0</td>\n",
              "      <td>Man</td>\n",
              "      <td>No</td>\n",
              "      <td>Straight / Heterosexual</td>\n",
              "      <td>NaN</td>\n",
              "      <td>No</td>\n",
              "      <td>Appropriate in length</td>\n",
              "      <td>Neither easy nor difficult</td>\n",
              "    </tr>\n",
              "    <tr>\n",
              "      <th>2</th>\n",
              "      <td>3</td>\n",
              "      <td>I am not primarily a developer, but I write co...</td>\n",
              "      <td>Yes</td>\n",
              "      <td>Never</td>\n",
              "      <td>The quality of OSS and closed source software ...</td>\n",
              "      <td>Employed full-time</td>\n",
              "      <td>Thailand</td>\n",
              "      <td>No</td>\n",
              "      <td>Bachelor’s degree (BA, BS, B.Eng., etc.)</td>\n",
              "      <td>Web development or web design</td>\n",
              "      <td>...</td>\n",
              "      <td>Just as welcome now as I felt last year</td>\n",
              "      <td>Tech meetups or events in your area;Courses on...</td>\n",
              "      <td>28.0</td>\n",
              "      <td>Man</td>\n",
              "      <td>No</td>\n",
              "      <td>Straight / Heterosexual</td>\n",
              "      <td>NaN</td>\n",
              "      <td>Yes</td>\n",
              "      <td>Appropriate in length</td>\n",
              "      <td>Neither easy nor difficult</td>\n",
              "    </tr>\n",
              "    <tr>\n",
              "      <th>3</th>\n",
              "      <td>4</td>\n",
              "      <td>I am a developer by profession</td>\n",
              "      <td>No</td>\n",
              "      <td>Never</td>\n",
              "      <td>The quality of OSS and closed source software ...</td>\n",
              "      <td>Employed full-time</td>\n",
              "      <td>United States</td>\n",
              "      <td>No</td>\n",
              "      <td>Bachelor’s degree (BA, BS, B.Eng., etc.)</td>\n",
              "      <td>Computer science, computer engineering, or sof...</td>\n",
              "      <td>...</td>\n",
              "      <td>Just as welcome now as I felt last year</td>\n",
              "      <td>Tech articles written by other developers;Indu...</td>\n",
              "      <td>22.0</td>\n",
              "      <td>Man</td>\n",
              "      <td>No</td>\n",
              "      <td>Straight / Heterosexual</td>\n",
              "      <td>White or of European descent</td>\n",
              "      <td>No</td>\n",
              "      <td>Appropriate in length</td>\n",
              "      <td>Easy</td>\n",
              "    </tr>\n",
              "    <tr>\n",
              "      <th>4</th>\n",
              "      <td>5</td>\n",
              "      <td>I am a developer by profession</td>\n",
              "      <td>Yes</td>\n",
              "      <td>Once a month or more often</td>\n",
              "      <td>OSS is, on average, of HIGHER quality than pro...</td>\n",
              "      <td>Employed full-time</td>\n",
              "      <td>Ukraine</td>\n",
              "      <td>No</td>\n",
              "      <td>Bachelor’s degree (BA, BS, B.Eng., etc.)</td>\n",
              "      <td>Computer science, computer engineering, or sof...</td>\n",
              "      <td>...</td>\n",
              "      <td>Just as welcome now as I felt last year</td>\n",
              "      <td>Tech meetups or events in your area;Courses on...</td>\n",
              "      <td>30.0</td>\n",
              "      <td>Man</td>\n",
              "      <td>No</td>\n",
              "      <td>Straight / Heterosexual</td>\n",
              "      <td>White or of European descent;Multiracial</td>\n",
              "      <td>No</td>\n",
              "      <td>Appropriate in length</td>\n",
              "      <td>Easy</td>\n",
              "    </tr>\n",
              "    <tr>\n",
              "      <th>...</th>\n",
              "      <td>...</td>\n",
              "      <td>...</td>\n",
              "      <td>...</td>\n",
              "      <td>...</td>\n",
              "      <td>...</td>\n",
              "      <td>...</td>\n",
              "      <td>...</td>\n",
              "      <td>...</td>\n",
              "      <td>...</td>\n",
              "      <td>...</td>\n",
              "      <td>...</td>\n",
              "      <td>...</td>\n",
              "      <td>...</td>\n",
              "      <td>...</td>\n",
              "      <td>...</td>\n",
              "      <td>...</td>\n",
              "      <td>...</td>\n",
              "      <td>...</td>\n",
              "      <td>...</td>\n",
              "      <td>...</td>\n",
              "      <td>...</td>\n",
              "    </tr>\n",
              "    <tr>\n",
              "      <th>88878</th>\n",
              "      <td>88377</td>\n",
              "      <td>NaN</td>\n",
              "      <td>Yes</td>\n",
              "      <td>Less than once a month but more than once per ...</td>\n",
              "      <td>The quality of OSS and closed source software ...</td>\n",
              "      <td>Not employed, and not looking for work</td>\n",
              "      <td>Canada</td>\n",
              "      <td>No</td>\n",
              "      <td>Primary/elementary school</td>\n",
              "      <td>NaN</td>\n",
              "      <td>...</td>\n",
              "      <td>NaN</td>\n",
              "      <td>Tech articles written by other developers;Tech...</td>\n",
              "      <td>NaN</td>\n",
              "      <td>Man</td>\n",
              "      <td>No</td>\n",
              "      <td>NaN</td>\n",
              "      <td>NaN</td>\n",
              "      <td>No</td>\n",
              "      <td>Appropriate in length</td>\n",
              "      <td>Easy</td>\n",
              "    </tr>\n",
              "    <tr>\n",
              "      <th>88879</th>\n",
              "      <td>88601</td>\n",
              "      <td>NaN</td>\n",
              "      <td>No</td>\n",
              "      <td>Never</td>\n",
              "      <td>The quality of OSS and closed source software ...</td>\n",
              "      <td>NaN</td>\n",
              "      <td>NaN</td>\n",
              "      <td>NaN</td>\n",
              "      <td>NaN</td>\n",
              "      <td>NaN</td>\n",
              "      <td>...</td>\n",
              "      <td>NaN</td>\n",
              "      <td>NaN</td>\n",
              "      <td>NaN</td>\n",
              "      <td>NaN</td>\n",
              "      <td>NaN</td>\n",
              "      <td>NaN</td>\n",
              "      <td>NaN</td>\n",
              "      <td>NaN</td>\n",
              "      <td>NaN</td>\n",
              "      <td>NaN</td>\n",
              "    </tr>\n",
              "    <tr>\n",
              "      <th>88880</th>\n",
              "      <td>88802</td>\n",
              "      <td>NaN</td>\n",
              "      <td>No</td>\n",
              "      <td>Never</td>\n",
              "      <td>NaN</td>\n",
              "      <td>Employed full-time</td>\n",
              "      <td>NaN</td>\n",
              "      <td>NaN</td>\n",
              "      <td>NaN</td>\n",
              "      <td>NaN</td>\n",
              "      <td>...</td>\n",
              "      <td>NaN</td>\n",
              "      <td>NaN</td>\n",
              "      <td>NaN</td>\n",
              "      <td>NaN</td>\n",
              "      <td>NaN</td>\n",
              "      <td>NaN</td>\n",
              "      <td>NaN</td>\n",
              "      <td>NaN</td>\n",
              "      <td>NaN</td>\n",
              "      <td>NaN</td>\n",
              "    </tr>\n",
              "    <tr>\n",
              "      <th>88881</th>\n",
              "      <td>88816</td>\n",
              "      <td>NaN</td>\n",
              "      <td>No</td>\n",
              "      <td>Never</td>\n",
              "      <td>OSS is, on average, of HIGHER quality than pro...</td>\n",
              "      <td>Independent contractor, freelancer, or self-em...</td>\n",
              "      <td>NaN</td>\n",
              "      <td>NaN</td>\n",
              "      <td>NaN</td>\n",
              "      <td>NaN</td>\n",
              "      <td>...</td>\n",
              "      <td>NaN</td>\n",
              "      <td>NaN</td>\n",
              "      <td>NaN</td>\n",
              "      <td>NaN</td>\n",
              "      <td>NaN</td>\n",
              "      <td>NaN</td>\n",
              "      <td>NaN</td>\n",
              "      <td>NaN</td>\n",
              "      <td>NaN</td>\n",
              "      <td>NaN</td>\n",
              "    </tr>\n",
              "    <tr>\n",
              "      <th>88882</th>\n",
              "      <td>88863</td>\n",
              "      <td>NaN</td>\n",
              "      <td>Yes</td>\n",
              "      <td>Less than once per year</td>\n",
              "      <td>OSS is, on average, of HIGHER quality than pro...</td>\n",
              "      <td>Not employed, and not looking for work</td>\n",
              "      <td>Spain</td>\n",
              "      <td>Yes, full-time</td>\n",
              "      <td>Professional degree (JD, MD, etc.)</td>\n",
              "      <td>Computer science, computer engineering, or sof...</td>\n",
              "      <td>...</td>\n",
              "      <td>Somewhat less welcome now than last year</td>\n",
              "      <td>Tech articles written by other developers;Indu...</td>\n",
              "      <td>18.0</td>\n",
              "      <td>Man</td>\n",
              "      <td>No</td>\n",
              "      <td>Straight / Heterosexual</td>\n",
              "      <td>Hispanic or Latino/Latina;White or of European...</td>\n",
              "      <td>No</td>\n",
              "      <td>Appropriate in length</td>\n",
              "      <td>Easy</td>\n",
              "    </tr>\n",
              "  </tbody>\n",
              "</table>\n",
              "<p>88883 rows × 85 columns</p>\n",
              "</div>\n",
              "      <button class=\"colab-df-convert\" onclick=\"convertToInteractive('df-ce4a7ab0-a633-4d1e-976d-bd3779ba9f78')\"\n",
              "              title=\"Convert this dataframe to an interactive table.\"\n",
              "              style=\"display:none;\">\n",
              "        \n",
              "  <svg xmlns=\"http://www.w3.org/2000/svg\" height=\"24px\"viewBox=\"0 0 24 24\"\n",
              "       width=\"24px\">\n",
              "    <path d=\"M0 0h24v24H0V0z\" fill=\"none\"/>\n",
              "    <path d=\"M18.56 5.44l.94 2.06.94-2.06 2.06-.94-2.06-.94-.94-2.06-.94 2.06-2.06.94zm-11 1L8.5 8.5l.94-2.06 2.06-.94-2.06-.94L8.5 2.5l-.94 2.06-2.06.94zm10 10l.94 2.06.94-2.06 2.06-.94-2.06-.94-.94-2.06-.94 2.06-2.06.94z\"/><path d=\"M17.41 7.96l-1.37-1.37c-.4-.4-.92-.59-1.43-.59-.52 0-1.04.2-1.43.59L10.3 9.45l-7.72 7.72c-.78.78-.78 2.05 0 2.83L4 21.41c.39.39.9.59 1.41.59.51 0 1.02-.2 1.41-.59l7.78-7.78 2.81-2.81c.8-.78.8-2.07 0-2.86zM5.41 20L4 18.59l7.72-7.72 1.47 1.35L5.41 20z\"/>\n",
              "  </svg>\n",
              "      </button>\n",
              "      \n",
              "  <style>\n",
              "    .colab-df-container {\n",
              "      display:flex;\n",
              "      flex-wrap:wrap;\n",
              "      gap: 12px;\n",
              "    }\n",
              "\n",
              "    .colab-df-convert {\n",
              "      background-color: #E8F0FE;\n",
              "      border: none;\n",
              "      border-radius: 50%;\n",
              "      cursor: pointer;\n",
              "      display: none;\n",
              "      fill: #1967D2;\n",
              "      height: 32px;\n",
              "      padding: 0 0 0 0;\n",
              "      width: 32px;\n",
              "    }\n",
              "\n",
              "    .colab-df-convert:hover {\n",
              "      background-color: #E2EBFA;\n",
              "      box-shadow: 0px 1px 2px rgba(60, 64, 67, 0.3), 0px 1px 3px 1px rgba(60, 64, 67, 0.15);\n",
              "      fill: #174EA6;\n",
              "    }\n",
              "\n",
              "    [theme=dark] .colab-df-convert {\n",
              "      background-color: #3B4455;\n",
              "      fill: #D2E3FC;\n",
              "    }\n",
              "\n",
              "    [theme=dark] .colab-df-convert:hover {\n",
              "      background-color: #434B5C;\n",
              "      box-shadow: 0px 1px 3px 1px rgba(0, 0, 0, 0.15);\n",
              "      filter: drop-shadow(0px 1px 2px rgba(0, 0, 0, 0.3));\n",
              "      fill: #FFFFFF;\n",
              "    }\n",
              "  </style>\n",
              "\n",
              "      <script>\n",
              "        const buttonEl =\n",
              "          document.querySelector('#df-ce4a7ab0-a633-4d1e-976d-bd3779ba9f78 button.colab-df-convert');\n",
              "        buttonEl.style.display =\n",
              "          google.colab.kernel.accessAllowed ? 'block' : 'none';\n",
              "\n",
              "        async function convertToInteractive(key) {\n",
              "          const element = document.querySelector('#df-ce4a7ab0-a633-4d1e-976d-bd3779ba9f78');\n",
              "          const dataTable =\n",
              "            await google.colab.kernel.invokeFunction('convertToInteractive',\n",
              "                                                     [key], {});\n",
              "          if (!dataTable) return;\n",
              "\n",
              "          const docLinkHtml = 'Like what you see? Visit the ' +\n",
              "            '<a target=\"_blank\" href=https://colab.research.google.com/notebooks/data_table.ipynb>data table notebook</a>'\n",
              "            + ' to learn more about interactive tables.';\n",
              "          element.innerHTML = '';\n",
              "          dataTable['output_type'] = 'display_data';\n",
              "          await google.colab.output.renderOutput(dataTable, element);\n",
              "          const docLink = document.createElement('div');\n",
              "          docLink.innerHTML = docLinkHtml;\n",
              "          element.appendChild(docLink);\n",
              "        }\n",
              "      </script>\n",
              "    </div>\n",
              "  </div>\n",
              "  "
            ]
          },
          "metadata": {},
          "execution_count": 348
        }
      ]
    },
    {
      "cell_type": "markdown",
      "source": [
        "## 1. Find the average age of developers when they wrote their first line of code."
      ],
      "metadata": {
        "id": "4oftHFj29Cnd"
      }
    },
    {
      "cell_type": "code",
      "source": [
        "schema_df[schema_df[\"QuestionText\"] == \"At what age did you write your first line of code or program? (E.g., webpage, Hello World, Scratch project)\"]"
      ],
      "metadata": {
        "colab": {
          "base_uri": "https://localhost:8080/",
          "height": 81
        },
        "id": "MxcILQe263oe",
        "outputId": "d9e6d190-50db-4357-80cb-0ad8869cadf6"
      },
      "execution_count": null,
      "outputs": [
        {
          "output_type": "execute_result",
          "data": {
            "text/plain": [
              "        Column                                       QuestionText\n",
              "14  Age1stCode  At what age did you write your first line of c..."
            ],
            "text/html": [
              "\n",
              "  <div id=\"df-b0a069c0-9034-4f67-bd41-4fe07d6e4803\">\n",
              "    <div class=\"colab-df-container\">\n",
              "      <div>\n",
              "<style scoped>\n",
              "    .dataframe tbody tr th:only-of-type {\n",
              "        vertical-align: middle;\n",
              "    }\n",
              "\n",
              "    .dataframe tbody tr th {\n",
              "        vertical-align: top;\n",
              "    }\n",
              "\n",
              "    .dataframe thead th {\n",
              "        text-align: right;\n",
              "    }\n",
              "</style>\n",
              "<table border=\"1\" class=\"dataframe\">\n",
              "  <thead>\n",
              "    <tr style=\"text-align: right;\">\n",
              "      <th></th>\n",
              "      <th>Column</th>\n",
              "      <th>QuestionText</th>\n",
              "    </tr>\n",
              "  </thead>\n",
              "  <tbody>\n",
              "    <tr>\n",
              "      <th>14</th>\n",
              "      <td>Age1stCode</td>\n",
              "      <td>At what age did you write your first line of c...</td>\n",
              "    </tr>\n",
              "  </tbody>\n",
              "</table>\n",
              "</div>\n",
              "      <button class=\"colab-df-convert\" onclick=\"convertToInteractive('df-b0a069c0-9034-4f67-bd41-4fe07d6e4803')\"\n",
              "              title=\"Convert this dataframe to an interactive table.\"\n",
              "              style=\"display:none;\">\n",
              "        \n",
              "  <svg xmlns=\"http://www.w3.org/2000/svg\" height=\"24px\"viewBox=\"0 0 24 24\"\n",
              "       width=\"24px\">\n",
              "    <path d=\"M0 0h24v24H0V0z\" fill=\"none\"/>\n",
              "    <path d=\"M18.56 5.44l.94 2.06.94-2.06 2.06-.94-2.06-.94-.94-2.06-.94 2.06-2.06.94zm-11 1L8.5 8.5l.94-2.06 2.06-.94-2.06-.94L8.5 2.5l-.94 2.06-2.06.94zm10 10l.94 2.06.94-2.06 2.06-.94-2.06-.94-.94-2.06-.94 2.06-2.06.94z\"/><path d=\"M17.41 7.96l-1.37-1.37c-.4-.4-.92-.59-1.43-.59-.52 0-1.04.2-1.43.59L10.3 9.45l-7.72 7.72c-.78.78-.78 2.05 0 2.83L4 21.41c.39.39.9.59 1.41.59.51 0 1.02-.2 1.41-.59l7.78-7.78 2.81-2.81c.8-.78.8-2.07 0-2.86zM5.41 20L4 18.59l7.72-7.72 1.47 1.35L5.41 20z\"/>\n",
              "  </svg>\n",
              "      </button>\n",
              "      \n",
              "  <style>\n",
              "    .colab-df-container {\n",
              "      display:flex;\n",
              "      flex-wrap:wrap;\n",
              "      gap: 12px;\n",
              "    }\n",
              "\n",
              "    .colab-df-convert {\n",
              "      background-color: #E8F0FE;\n",
              "      border: none;\n",
              "      border-radius: 50%;\n",
              "      cursor: pointer;\n",
              "      display: none;\n",
              "      fill: #1967D2;\n",
              "      height: 32px;\n",
              "      padding: 0 0 0 0;\n",
              "      width: 32px;\n",
              "    }\n",
              "\n",
              "    .colab-df-convert:hover {\n",
              "      background-color: #E2EBFA;\n",
              "      box-shadow: 0px 1px 2px rgba(60, 64, 67, 0.3), 0px 1px 3px 1px rgba(60, 64, 67, 0.15);\n",
              "      fill: #174EA6;\n",
              "    }\n",
              "\n",
              "    [theme=dark] .colab-df-convert {\n",
              "      background-color: #3B4455;\n",
              "      fill: #D2E3FC;\n",
              "    }\n",
              "\n",
              "    [theme=dark] .colab-df-convert:hover {\n",
              "      background-color: #434B5C;\n",
              "      box-shadow: 0px 1px 3px 1px rgba(0, 0, 0, 0.15);\n",
              "      filter: drop-shadow(0px 1px 2px rgba(0, 0, 0, 0.3));\n",
              "      fill: #FFFFFF;\n",
              "    }\n",
              "  </style>\n",
              "\n",
              "      <script>\n",
              "        const buttonEl =\n",
              "          document.querySelector('#df-b0a069c0-9034-4f67-bd41-4fe07d6e4803 button.colab-df-convert');\n",
              "        buttonEl.style.display =\n",
              "          google.colab.kernel.accessAllowed ? 'block' : 'none';\n",
              "\n",
              "        async function convertToInteractive(key) {\n",
              "          const element = document.querySelector('#df-b0a069c0-9034-4f67-bd41-4fe07d6e4803');\n",
              "          const dataTable =\n",
              "            await google.colab.kernel.invokeFunction('convertToInteractive',\n",
              "                                                     [key], {});\n",
              "          if (!dataTable) return;\n",
              "\n",
              "          const docLinkHtml = 'Like what you see? Visit the ' +\n",
              "            '<a target=\"_blank\" href=https://colab.research.google.com/notebooks/data_table.ipynb>data table notebook</a>'\n",
              "            + ' to learn more about interactive tables.';\n",
              "          element.innerHTML = '';\n",
              "          dataTable['output_type'] = 'display_data';\n",
              "          await google.colab.output.renderOutput(dataTable, element);\n",
              "          const docLink = document.createElement('div');\n",
              "          docLink.innerHTML = docLinkHtml;\n",
              "          element.appendChild(docLink);\n",
              "        }\n",
              "      </script>\n",
              "    </div>\n",
              "  </div>\n",
              "  "
            ]
          },
          "metadata": {},
          "execution_count": 20
        }
      ]
    },
    {
      "cell_type": "code",
      "source": [
        "age = df[\"Age1stCode\"].dropna()"
      ],
      "metadata": {
        "id": "TEtQIyE08S_c"
      },
      "execution_count": null,
      "outputs": []
    },
    {
      "cell_type": "code",
      "source": [
        "age.unique()"
      ],
      "metadata": {
        "colab": {
          "base_uri": "https://localhost:8080/"
        },
        "id": "jqyKliMwCpih",
        "outputId": "d7ad7915-136f-4eea-dacb-b9b87c8375b5"
      },
      "execution_count": null,
      "outputs": [
        {
          "output_type": "execute_result",
          "data": {
            "text/plain": [
              "array([10, 17, 22, 16, 14, 15, 11, 20, 13, 18, 12, 19, 21,  8, 35,  6,  9,\n",
              "       29,  7,  5, 23, 30, 27, 24,  4, 33, 25, 26, 39, 36, 38, 28, 31, 90,\n",
              "       32, 37, 50, 65, 42, 34, 40, 67, 43, 44, 60, 46, 45, 49, 51, 41, 55,\n",
              "       83, 48, 53, 54, 47, 56, 79, 61, 68, 77, 66, 52, 80, 62, 84, 57, 58,\n",
              "       63])"
            ]
          },
          "metadata": {},
          "execution_count": 67
        }
      ]
    },
    {
      "cell_type": "code",
      "source": [
        "age[age == \"Younger than 5 years\"] = 4\n",
        "age[age == 'Older than 85'] = 90"
      ],
      "metadata": {
        "id": "PoyBdLrB8hm7"
      },
      "execution_count": null,
      "outputs": []
    },
    {
      "cell_type": "code",
      "source": [
        "age = age.astype(int)"
      ],
      "metadata": {
        "id": "TUvNv2rv_-qT"
      },
      "execution_count": null,
      "outputs": []
    },
    {
      "cell_type": "code",
      "source": [
        "age.mean()"
      ],
      "metadata": {
        "colab": {
          "base_uri": "https://localhost:8080/"
        },
        "id": "YTL_igPHCcJq",
        "outputId": "0a5db2cb-079c-4b60-d1b4-5dadbda75840"
      },
      "execution_count": null,
      "outputs": [
        {
          "output_type": "execute_result",
          "data": {
            "text/plain": [
              "15.410582650569413"
            ]
          },
          "metadata": {},
          "execution_count": 69
        }
      ]
    },
    {
      "cell_type": "markdown",
      "source": [
        "## Deduce the percentage of developers who knew python in each country. \n"
      ],
      "metadata": {
        "id": "xb3vA8lGOvwM"
      }
    },
    {
      "cell_type": "code",
      "source": [
        "schema_df.Column.unique()"
      ],
      "metadata": {
        "colab": {
          "base_uri": "https://localhost:8080/"
        },
        "id": "bj1PaC0aHNnV",
        "outputId": "d31971ec-7be0-4e40-d804-6b487cf3ffb5"
      },
      "execution_count": null,
      "outputs": [
        {
          "output_type": "execute_result",
          "data": {
            "text/plain": [
              "array(['Respondent', 'MainBranch', 'Hobbyist', 'OpenSourcer',\n",
              "       'OpenSource', 'Employment', 'Country', 'Student', 'EdLevel',\n",
              "       'UndergradMajor', 'EduOther', 'OrgSize', 'DevType', 'YearsCode',\n",
              "       'Age1stCode', 'YearsCodePro', 'CareerSat', 'JobSat', 'MgrIdiot',\n",
              "       'MgrMoney', 'MgrWant', 'JobSeek', 'LastHireDate', 'LastInt',\n",
              "       'FizzBuzz', 'JobFactors', 'ResumeUpdate', 'CurrencySymbol',\n",
              "       'CurrencyDesc', 'CompTotal', 'CompFreq', 'ConvertedComp',\n",
              "       'WorkWeekHrs', 'WorkPlan', 'WorkChallenge', 'WorkRemote',\n",
              "       'WorkLoc', 'ImpSyn', 'CodeRev', 'CodeRevHrs', 'UnitTests',\n",
              "       'PurchaseHow', 'PurchaseWhat', 'LanguageWorkedWith',\n",
              "       'LanguageDesireNextYear', 'DatabaseWorkedWith',\n",
              "       'DatabaseDesireNextYear', 'PlatformWorkedWith',\n",
              "       'PlatformDesireNextYear', 'WebFrameWorkedWith',\n",
              "       'WebFrameDesireNextYear', 'MiscTechWorkedWith',\n",
              "       'MiscTechDesireNextYear', 'DevEnviron', 'OpSys', 'Containers',\n",
              "       'BlockchainOrg', 'BlockchainIs', 'BetterLife', 'ITperson', 'OffOn',\n",
              "       'SocialMedia', 'Extraversion', 'ScreenName', 'SOVisit1st',\n",
              "       'SOVisitFreq', 'SOVisitTo', 'SOFindAnswer', 'SOTimeSaved',\n",
              "       'SOHowMuchTime', 'SOAccount', 'SOPartFreq', 'SOJobs', 'EntTeams',\n",
              "       'SOComm', 'WelcomeChange', 'SONewContent', 'Age', 'Gender',\n",
              "       'Trans', 'Sexuality', 'Ethnicity', 'Dependents', 'SurveyLength',\n",
              "       'SurveyEase'], dtype=object)"
            ]
          },
          "metadata": {},
          "execution_count": 79
        }
      ]
    },
    {
      "cell_type": "code",
      "source": [
        "df2 = df.copy(deep=True)"
      ],
      "metadata": {
        "id": "6MFSZruQMIXP"
      },
      "execution_count": null,
      "outputs": []
    },
    {
      "cell_type": "code",
      "source": [
        "df2[\"LanguageWorkedWith\"].isna().sum()"
      ],
      "metadata": {
        "colab": {
          "base_uri": "https://localhost:8080/"
        },
        "id": "TE6iHsvpPDaP",
        "outputId": "4c5eeeff-08b4-4a70-c235-e9a7325f454a"
      },
      "execution_count": null,
      "outputs": [
        {
          "output_type": "execute_result",
          "data": {
            "text/plain": [
              "1314"
            ]
          },
          "metadata": {},
          "execution_count": 128
        }
      ]
    },
    {
      "cell_type": "code",
      "source": [
        "df2 = df2[df2['LanguageWorkedWith'].isna() != 1]"
      ],
      "metadata": {
        "id": "PB_EWejSPt7s"
      },
      "execution_count": null,
      "outputs": []
    },
    {
      "cell_type": "code",
      "source": [
        "df2[\"LanguageWorkedWith\"].isna().sum()"
      ],
      "metadata": {
        "colab": {
          "base_uri": "https://localhost:8080/"
        },
        "id": "-6-uqgLhSGmu",
        "outputId": "898ecea9-f879-4a81-cc47-c2fca81597ba"
      },
      "execution_count": null,
      "outputs": [
        {
          "output_type": "execute_result",
          "data": {
            "text/plain": [
              "0"
            ]
          },
          "metadata": {},
          "execution_count": 130
        }
      ]
    },
    {
      "cell_type": "code",
      "source": [
        "df2[\"knows_python\"] = df2[\"LanguageWorkedWith\"].str.contains(\"python\", case=False, na=False).astype(int)\n",
        "df2[\"dknows_python\"] = df2[\"LanguageWorkedWith\"].str.contains(\"python\", case=False, na=False).astype(int) == 0"
      ],
      "metadata": {
        "id": "hlGjoEUsH2LA"
      },
      "execution_count": null,
      "outputs": []
    },
    {
      "cell_type": "code",
      "source": [
        "df3  = df2.groupby([\"Country\"]).sum()"
      ],
      "metadata": {
        "id": "-i8Wh-l0TowN"
      },
      "execution_count": null,
      "outputs": []
    },
    {
      "cell_type": "code",
      "source": [
        "df3['perct'] = (df3[\"knows_python\"]/(df3[\"dknows_python\"]+df3[\"knows_python\"]))*100\n",
        "df3['perct']"
      ],
      "metadata": {
        "colab": {
          "base_uri": "https://localhost:8080/"
        },
        "id": "G1u1xyxRMvct",
        "outputId": "da30951b-28ab-43d4-9541-963f349fd68b"
      },
      "execution_count": null,
      "outputs": [
        {
          "output_type": "execute_result",
          "data": {
            "text/plain": [
              "Country\n",
              "Afghanistan                             20.512821\n",
              "Albania                                 27.710843\n",
              "Algeria                                 31.746032\n",
              "Andorra                                  0.000000\n",
              "Angola                                  50.000000\n",
              "                                          ...    \n",
              "Venezuela, Bolivarian Republic of...    32.183908\n",
              "Viet Nam                                35.454545\n",
              "Yemen                                   17.647059\n",
              "Zambia                                  33.333333\n",
              "Zimbabwe                                35.897436\n",
              "Name: perct, Length: 178, dtype: float64"
            ]
          },
          "metadata": {},
          "execution_count": 143
        }
      ]
    },
    {
      "cell_type": "markdown",
      "source": [
        "## Generate the report for the average salary of developers based on the continent.\n"
      ],
      "metadata": {
        "id": "2oHzSVgXWK3s"
      }
    },
    {
      "cell_type": "code",
      "source": [
        "'Salary converted to annual USD salaries using the exchange rate on 2019-02-01, assuming 12 working months and 50 working weeks.'"
      ],
      "metadata": {
        "id": "j0GFKbGRaI10"
      },
      "execution_count": null,
      "outputs": []
    },
    {
      "cell_type": "code",
      "source": [
        "!pip install pycountry_convert"
      ],
      "metadata": {
        "id": "XoPgspmShO8G"
      },
      "execution_count": null,
      "outputs": []
    },
    {
      "cell_type": "code",
      "source": [
        "import pycountry_convert as pc\n",
        "\n",
        "def country_to_continent(country_name):\n",
        "    country_alpha2 = pc.country_name_to_country_alpha2(country_name)\n",
        "    country_continent_code = pc.country_alpha2_to_continent_code(country_alpha2)\n",
        "    country_continent_name = pc.convert_continent_code_to_continent_name(country_continent_code)\n",
        "    return country_continent_name"
      ],
      "metadata": {
        "id": "a820aXxhg2ct"
      },
      "execution_count": null,
      "outputs": []
    },
    {
      "cell_type": "code",
      "source": [
        "df2=df.copy(deep=True)"
      ],
      "metadata": {
        "id": "AcPNgTk-TnnE"
      },
      "execution_count": null,
      "outputs": []
    },
    {
      "cell_type": "code",
      "source": [
        "df2['Country'].mask(df2['Country'] == 'Hong Kong (S.A.R.)', 'India', inplace=True)"
      ],
      "metadata": {
        "id": "ULcJgKJ6WfZ9"
      },
      "execution_count": null,
      "outputs": []
    },
    {
      "cell_type": "code",
      "source": [
        "df2.loc[df2[\"Country\"] == \"Hong Kong (S.A.R.)\", \"Continent\"] = \"Asia\""
      ],
      "metadata": {
        "id": "FNrHvv2Ihzua"
      },
      "execution_count": null,
      "outputs": []
    },
    {
      "cell_type": "code",
      "source": [
        "df2['Country'].mask(df2['Country'] == 'Libyan Arab Jamahiriya', 'Libya', inplace=True)"
      ],
      "metadata": {
        "id": "sOWbJSmRmANt"
      },
      "execution_count": null,
      "outputs": []
    },
    {
      "cell_type": "code",
      "source": [
        "df2['Country'].mask(df2['Country'] == \"Venezuela, Bolivarian Republic of...\", \"Venezuela\", inplace=True)"
      ],
      "metadata": {
        "id": "bQ8m6ngQsOcl"
      },
      "execution_count": null,
      "outputs": []
    },
    {
      "cell_type": "code",
      "source": [
        "df2 = df2[df2['Country'] != \"Other Country (Not Listed Above)\"] "
      ],
      "metadata": {
        "id": "hDqmnw04tqjO"
      },
      "execution_count": null,
      "outputs": []
    },
    {
      "cell_type": "code",
      "source": [
        "df2['Country'].mask(df2['Country'] == \"The former Yugoslav Republic of Macedonia\", \"North Macedonia\", inplace=True)"
      ],
      "metadata": {
        "id": "XJY543INuRAp"
      },
      "execution_count": null,
      "outputs": []
    },
    {
      "cell_type": "code",
      "source": [
        "df2['Country'].mask(df2['Country'] == \"Republic of Korea\",  \"South Korea\", inplace=True)"
      ],
      "metadata": {
        "id": "40oLyoswuiyC"
      },
      "execution_count": null,
      "outputs": []
    },
    {
      "cell_type": "code",
      "source": [
        "df2['Country'].mask(df2['Country'] == \"Congo, Republic of the...\",  \"Congo\", inplace=True)"
      ],
      "metadata": {
        "id": "dJ5uSjx_u2PY"
      },
      "execution_count": null,
      "outputs": []
    },
    {
      "cell_type": "code",
      "source": [
        "df2.loc[df2[\"Country\"] == \"Timor-Leste\",\"perct\"] = \"Asia\""
      ],
      "metadata": {
        "id": "3Ypx8TFX1V8b"
      },
      "execution_count": null,
      "outputs": []
    },
    {
      "cell_type": "code",
      "source": [
        "df2['Country'].mask(df2['Country'] == \"Timor-Leste\",  \"Vietnam\", inplace=True)"
      ],
      "metadata": {
        "id": "jr80A5m_-eT1"
      },
      "execution_count": null,
      "outputs": []
    },
    {
      "cell_type": "code",
      "source": [
        "df2['Continent'] = df2.Country.map(country_to_continent)"
      ],
      "metadata": {
        "id": "A2WmOSBgc6T1"
      },
      "execution_count": null,
      "outputs": []
    },
    {
      "cell_type": "code",
      "source": [
        "schema_df[schema_df[\"QuestionText\"] == 'Salary converted to annual USD salaries using the exchange rate on 2019-02-01, assuming 12 working months and 50 working weeks.']"
      ],
      "metadata": {
        "colab": {
          "base_uri": "https://localhost:8080/",
          "height": 81
        },
        "id": "pAjpu3ALCe-H",
        "outputId": "e3bf9c40-0457-463a-dbc9-ef0e717ad3d9"
      },
      "execution_count": null,
      "outputs": [
        {
          "output_type": "execute_result",
          "data": {
            "text/plain": [
              "           Column                                       QuestionText\n",
              "31  ConvertedComp  Salary converted to annual USD salaries using ..."
            ],
            "text/html": [
              "\n",
              "  <div id=\"df-ac5ca27c-d4f3-44c7-996f-dff23907764f\">\n",
              "    <div class=\"colab-df-container\">\n",
              "      <div>\n",
              "<style scoped>\n",
              "    .dataframe tbody tr th:only-of-type {\n",
              "        vertical-align: middle;\n",
              "    }\n",
              "\n",
              "    .dataframe tbody tr th {\n",
              "        vertical-align: top;\n",
              "    }\n",
              "\n",
              "    .dataframe thead th {\n",
              "        text-align: right;\n",
              "    }\n",
              "</style>\n",
              "<table border=\"1\" class=\"dataframe\">\n",
              "  <thead>\n",
              "    <tr style=\"text-align: right;\">\n",
              "      <th></th>\n",
              "      <th>Column</th>\n",
              "      <th>QuestionText</th>\n",
              "    </tr>\n",
              "  </thead>\n",
              "  <tbody>\n",
              "    <tr>\n",
              "      <th>31</th>\n",
              "      <td>ConvertedComp</td>\n",
              "      <td>Salary converted to annual USD salaries using ...</td>\n",
              "    </tr>\n",
              "  </tbody>\n",
              "</table>\n",
              "</div>\n",
              "      <button class=\"colab-df-convert\" onclick=\"convertToInteractive('df-ac5ca27c-d4f3-44c7-996f-dff23907764f')\"\n",
              "              title=\"Convert this dataframe to an interactive table.\"\n",
              "              style=\"display:none;\">\n",
              "        \n",
              "  <svg xmlns=\"http://www.w3.org/2000/svg\" height=\"24px\"viewBox=\"0 0 24 24\"\n",
              "       width=\"24px\">\n",
              "    <path d=\"M0 0h24v24H0V0z\" fill=\"none\"/>\n",
              "    <path d=\"M18.56 5.44l.94 2.06.94-2.06 2.06-.94-2.06-.94-.94-2.06-.94 2.06-2.06.94zm-11 1L8.5 8.5l.94-2.06 2.06-.94-2.06-.94L8.5 2.5l-.94 2.06-2.06.94zm10 10l.94 2.06.94-2.06 2.06-.94-2.06-.94-.94-2.06-.94 2.06-2.06.94z\"/><path d=\"M17.41 7.96l-1.37-1.37c-.4-.4-.92-.59-1.43-.59-.52 0-1.04.2-1.43.59L10.3 9.45l-7.72 7.72c-.78.78-.78 2.05 0 2.83L4 21.41c.39.39.9.59 1.41.59.51 0 1.02-.2 1.41-.59l7.78-7.78 2.81-2.81c.8-.78.8-2.07 0-2.86zM5.41 20L4 18.59l7.72-7.72 1.47 1.35L5.41 20z\"/>\n",
              "  </svg>\n",
              "      </button>\n",
              "      \n",
              "  <style>\n",
              "    .colab-df-container {\n",
              "      display:flex;\n",
              "      flex-wrap:wrap;\n",
              "      gap: 12px;\n",
              "    }\n",
              "\n",
              "    .colab-df-convert {\n",
              "      background-color: #E8F0FE;\n",
              "      border: none;\n",
              "      border-radius: 50%;\n",
              "      cursor: pointer;\n",
              "      display: none;\n",
              "      fill: #1967D2;\n",
              "      height: 32px;\n",
              "      padding: 0 0 0 0;\n",
              "      width: 32px;\n",
              "    }\n",
              "\n",
              "    .colab-df-convert:hover {\n",
              "      background-color: #E2EBFA;\n",
              "      box-shadow: 0px 1px 2px rgba(60, 64, 67, 0.3), 0px 1px 3px 1px rgba(60, 64, 67, 0.15);\n",
              "      fill: #174EA6;\n",
              "    }\n",
              "\n",
              "    [theme=dark] .colab-df-convert {\n",
              "      background-color: #3B4455;\n",
              "      fill: #D2E3FC;\n",
              "    }\n",
              "\n",
              "    [theme=dark] .colab-df-convert:hover {\n",
              "      background-color: #434B5C;\n",
              "      box-shadow: 0px 1px 3px 1px rgba(0, 0, 0, 0.15);\n",
              "      filter: drop-shadow(0px 1px 2px rgba(0, 0, 0, 0.3));\n",
              "      fill: #FFFFFF;\n",
              "    }\n",
              "  </style>\n",
              "\n",
              "      <script>\n",
              "        const buttonEl =\n",
              "          document.querySelector('#df-ac5ca27c-d4f3-44c7-996f-dff23907764f button.colab-df-convert');\n",
              "        buttonEl.style.display =\n",
              "          google.colab.kernel.accessAllowed ? 'block' : 'none';\n",
              "\n",
              "        async function convertToInteractive(key) {\n",
              "          const element = document.querySelector('#df-ac5ca27c-d4f3-44c7-996f-dff23907764f');\n",
              "          const dataTable =\n",
              "            await google.colab.kernel.invokeFunction('convertToInteractive',\n",
              "                                                     [key], {});\n",
              "          if (!dataTable) return;\n",
              "\n",
              "          const docLinkHtml = 'Like what you see? Visit the ' +\n",
              "            '<a target=\"_blank\" href=https://colab.research.google.com/notebooks/data_table.ipynb>data table notebook</a>'\n",
              "            + ' to learn more about interactive tables.';\n",
              "          element.innerHTML = '';\n",
              "          dataTable['output_type'] = 'display_data';\n",
              "          await google.colab.output.renderOutput(dataTable, element);\n",
              "          const docLink = document.createElement('div');\n",
              "          docLink.innerHTML = docLinkHtml;\n",
              "          element.appendChild(docLink);\n",
              "        }\n",
              "      </script>\n",
              "    </div>\n",
              "  </div>\n",
              "  "
            ]
          },
          "metadata": {},
          "execution_count": 212
        }
      ]
    },
    {
      "cell_type": "code",
      "source": [
        "df2 = df2[df2['ConvertedComp'].isna() != 1]\n"
      ],
      "metadata": {
        "id": "jZTQQn5LFGUD"
      },
      "execution_count": null,
      "outputs": []
    },
    {
      "cell_type": "code",
      "source": [
        "df2.ConvertedComp.astype(int)"
      ],
      "metadata": {
        "colab": {
          "base_uri": "https://localhost:8080/"
        },
        "id": "vE3obt81I8Ap",
        "outputId": "a7dc3457-c9b7-4bef-d186-5f712dc88584"
      },
      "execution_count": null,
      "outputs": [
        {
          "output_type": "execute_result",
          "data": {
            "text/plain": [
              "2          8820\n",
              "3         61000\n",
              "5        366420\n",
              "8         95179\n",
              "9         13293\n",
              "          ...  \n",
              "88325    130000\n",
              "88326     82488\n",
              "88328     68745\n",
              "88329    588012\n",
              "88330     22915\n",
              "Name: ConvertedComp, Length: 55762, dtype: int64"
            ]
          },
          "metadata": {},
          "execution_count": 370
        }
      ]
    },
    {
      "cell_type": "code",
      "source": [
        "df3 = df2.groupby(\"Continent\").mean()"
      ],
      "metadata": {
        "id": "dGc8vryvDhUk"
      },
      "execution_count": null,
      "outputs": []
    },
    {
      "cell_type": "code",
      "source": [
        "df3.ConvertedComp"
      ],
      "metadata": {
        "colab": {
          "base_uri": "https://localhost:8080/"
        },
        "id": "PAyEqqbOVvJb",
        "outputId": "71c82e9b-6f1b-47b1-f7de-4a82ef312675"
      },
      "execution_count": null,
      "outputs": [
        {
          "output_type": "execute_result",
          "data": {
            "text/plain": [
              "Continent\n",
              "Africa            35045.782816\n",
              "Asia              37768.549543\n",
              "Europe            97042.157518\n",
              "North America    225667.247418\n",
              "Oceania          166950.955791\n",
              "South America     32691.801127\n",
              "Name: ConvertedComp, dtype: float64"
            ]
          },
          "metadata": {},
          "execution_count": 385
        }
      ]
    },
    {
      "cell_type": "markdown",
      "source": [
        "## Based on this survey, what will be the most desired programming language for the year  2020? \n"
      ],
      "metadata": {
        "id": "s8Ku3IMmdxn7"
      }
    },
    {
      "cell_type": "code",
      "source": [
        "df3 = df.copy(deep=True)"
      ],
      "metadata": {
        "id": "njUKyEWqjK3k"
      },
      "execution_count": null,
      "outputs": []
    },
    {
      "cell_type": "code",
      "source": [
        "desired_lang = df3.LanguageDesireNextYear"
      ],
      "metadata": {
        "id": "GNgSVKBHdGEP"
      },
      "execution_count": null,
      "outputs": []
    },
    {
      "cell_type": "code",
      "source": [
        "desired_lang.dropna(inplace=True)"
      ],
      "metadata": {
        "id": "7JtqsTP4jCR4"
      },
      "execution_count": null,
      "outputs": []
    },
    {
      "cell_type": "code",
      "source": [
        "f_list = []\n",
        "for l in desired_lang:\n",
        "  x =l.split(';')\n",
        "  for i in x:\n",
        "\t    f_list.append(i)"
      ],
      "metadata": {
        "id": "7YPlxI8ngStR"
      },
      "execution_count": null,
      "outputs": []
    },
    {
      "cell_type": "code",
      "source": [
        "lang = pd.Series(f_list)\n",
        "lang.value_counts()"
      ],
      "metadata": {
        "colab": {
          "base_uri": "https://localhost:8080/"
        },
        "id": "XmQuaWtwi8Qd",
        "outputId": "09e22ecf-32d2-48ae-a58b-126eb2d7f50f"
      },
      "execution_count": null,
      "outputs": [
        {
          "output_type": "execute_result",
          "data": {
            "text/plain": [
              "JavaScript               44739\n",
              "Python                   40006\n",
              "HTML/CSS                 36645\n",
              "SQL                      33566\n",
              "TypeScript               23720\n",
              "Java                     23508\n",
              "C#                       22449\n",
              "Bash/Shell/PowerShell    21303\n",
              "Go                       17060\n",
              "C++                      16856\n",
              "Kotlin                   13261\n",
              "PHP                      12837\n",
              "C                        11143\n",
              "Rust                     10497\n",
              "Swift                     8800\n",
              "WebAssembly               8440\n",
              "Other(s):                 7912\n",
              "Ruby                      7251\n",
              "R                         6734\n",
              "Scala                     5562\n",
              "Assembly                  4659\n",
              "Dart                      4429\n",
              "Elixir                    3788\n",
              "F#                        3521\n",
              "Objective-C               2851\n",
              "Clojure                   2752\n",
              "Erlang                    2124\n",
              "VBA                       1641\n",
              "dtype: int64"
            ]
          },
          "metadata": {},
          "execution_count": 422
        }
      ]
    },
    {
      "cell_type": "markdown",
      "source": [
        "## Generate the report for the people who code as a hobby based on their gender and continent. "
      ],
      "metadata": {
        "id": "iK03ag-ynrRS"
      }
    },
    {
      "cell_type": "code",
      "source": [
        "schema_df[schema_df.Column == \"Hobbyist\"]"
      ],
      "metadata": {
        "colab": {
          "base_uri": "https://localhost:8080/",
          "height": 81
        },
        "id": "4jEm1EAPjroR",
        "outputId": "5271ee24-575a-4a08-b1ba-7414003cbae3"
      },
      "execution_count": null,
      "outputs": [
        {
          "output_type": "execute_result",
          "data": {
            "text/plain": [
              "     Column             QuestionText\n",
              "2  Hobbyist  Do you code as a hobby?"
            ],
            "text/html": [
              "\n",
              "  <div id=\"df-45bc3089-4f6d-4ab5-b331-baa07d8deba5\">\n",
              "    <div class=\"colab-df-container\">\n",
              "      <div>\n",
              "<style scoped>\n",
              "    .dataframe tbody tr th:only-of-type {\n",
              "        vertical-align: middle;\n",
              "    }\n",
              "\n",
              "    .dataframe tbody tr th {\n",
              "        vertical-align: top;\n",
              "    }\n",
              "\n",
              "    .dataframe thead th {\n",
              "        text-align: right;\n",
              "    }\n",
              "</style>\n",
              "<table border=\"1\" class=\"dataframe\">\n",
              "  <thead>\n",
              "    <tr style=\"text-align: right;\">\n",
              "      <th></th>\n",
              "      <th>Column</th>\n",
              "      <th>QuestionText</th>\n",
              "    </tr>\n",
              "  </thead>\n",
              "  <tbody>\n",
              "    <tr>\n",
              "      <th>2</th>\n",
              "      <td>Hobbyist</td>\n",
              "      <td>Do you code as a hobby?</td>\n",
              "    </tr>\n",
              "  </tbody>\n",
              "</table>\n",
              "</div>\n",
              "      <button class=\"colab-df-convert\" onclick=\"convertToInteractive('df-45bc3089-4f6d-4ab5-b331-baa07d8deba5')\"\n",
              "              title=\"Convert this dataframe to an interactive table.\"\n",
              "              style=\"display:none;\">\n",
              "        \n",
              "  <svg xmlns=\"http://www.w3.org/2000/svg\" height=\"24px\"viewBox=\"0 0 24 24\"\n",
              "       width=\"24px\">\n",
              "    <path d=\"M0 0h24v24H0V0z\" fill=\"none\"/>\n",
              "    <path d=\"M18.56 5.44l.94 2.06.94-2.06 2.06-.94-2.06-.94-.94-2.06-.94 2.06-2.06.94zm-11 1L8.5 8.5l.94-2.06 2.06-.94-2.06-.94L8.5 2.5l-.94 2.06-2.06.94zm10 10l.94 2.06.94-2.06 2.06-.94-2.06-.94-.94-2.06-.94 2.06-2.06.94z\"/><path d=\"M17.41 7.96l-1.37-1.37c-.4-.4-.92-.59-1.43-.59-.52 0-1.04.2-1.43.59L10.3 9.45l-7.72 7.72c-.78.78-.78 2.05 0 2.83L4 21.41c.39.39.9.59 1.41.59.51 0 1.02-.2 1.41-.59l7.78-7.78 2.81-2.81c.8-.78.8-2.07 0-2.86zM5.41 20L4 18.59l7.72-7.72 1.47 1.35L5.41 20z\"/>\n",
              "  </svg>\n",
              "      </button>\n",
              "      \n",
              "  <style>\n",
              "    .colab-df-container {\n",
              "      display:flex;\n",
              "      flex-wrap:wrap;\n",
              "      gap: 12px;\n",
              "    }\n",
              "\n",
              "    .colab-df-convert {\n",
              "      background-color: #E8F0FE;\n",
              "      border: none;\n",
              "      border-radius: 50%;\n",
              "      cursor: pointer;\n",
              "      display: none;\n",
              "      fill: #1967D2;\n",
              "      height: 32px;\n",
              "      padding: 0 0 0 0;\n",
              "      width: 32px;\n",
              "    }\n",
              "\n",
              "    .colab-df-convert:hover {\n",
              "      background-color: #E2EBFA;\n",
              "      box-shadow: 0px 1px 2px rgba(60, 64, 67, 0.3), 0px 1px 3px 1px rgba(60, 64, 67, 0.15);\n",
              "      fill: #174EA6;\n",
              "    }\n",
              "\n",
              "    [theme=dark] .colab-df-convert {\n",
              "      background-color: #3B4455;\n",
              "      fill: #D2E3FC;\n",
              "    }\n",
              "\n",
              "    [theme=dark] .colab-df-convert:hover {\n",
              "      background-color: #434B5C;\n",
              "      box-shadow: 0px 1px 3px 1px rgba(0, 0, 0, 0.15);\n",
              "      filter: drop-shadow(0px 1px 2px rgba(0, 0, 0, 0.3));\n",
              "      fill: #FFFFFF;\n",
              "    }\n",
              "  </style>\n",
              "\n",
              "      <script>\n",
              "        const buttonEl =\n",
              "          document.querySelector('#df-45bc3089-4f6d-4ab5-b331-baa07d8deba5 button.colab-df-convert');\n",
              "        buttonEl.style.display =\n",
              "          google.colab.kernel.accessAllowed ? 'block' : 'none';\n",
              "\n",
              "        async function convertToInteractive(key) {\n",
              "          const element = document.querySelector('#df-45bc3089-4f6d-4ab5-b331-baa07d8deba5');\n",
              "          const dataTable =\n",
              "            await google.colab.kernel.invokeFunction('convertToInteractive',\n",
              "                                                     [key], {});\n",
              "          if (!dataTable) return;\n",
              "\n",
              "          const docLinkHtml = 'Like what you see? Visit the ' +\n",
              "            '<a target=\"_blank\" href=https://colab.research.google.com/notebooks/data_table.ipynb>data table notebook</a>'\n",
              "            + ' to learn more about interactive tables.';\n",
              "          element.innerHTML = '';\n",
              "          dataTable['output_type'] = 'display_data';\n",
              "          await google.colab.output.renderOutput(dataTable, element);\n",
              "          const docLink = document.createElement('div');\n",
              "          docLink.innerHTML = docLinkHtml;\n",
              "          element.appendChild(docLink);\n",
              "        }\n",
              "      </script>\n",
              "    </div>\n",
              "  </div>\n",
              "  "
            ]
          },
          "metadata": {},
          "execution_count": 424
        }
      ]
    },
    {
      "cell_type": "code",
      "source": [
        "df2.Hobbyist"
      ],
      "metadata": {
        "colab": {
          "base_uri": "https://localhost:8080/"
        },
        "id": "6xFw3HSCn20V",
        "outputId": "ee993dbb-523d-46c1-a87b-c89d6c099ca9"
      },
      "execution_count": null,
      "outputs": [
        {
          "output_type": "execute_result",
          "data": {
            "text/plain": [
              "2        Yes\n",
              "3         No\n",
              "5        Yes\n",
              "8        Yes\n",
              "9        Yes\n",
              "        ... \n",
              "88325    Yes\n",
              "88326    Yes\n",
              "88328    Yes\n",
              "88329    Yes\n",
              "88330    Yes\n",
              "Name: Hobbyist, Length: 55762, dtype: object"
            ]
          },
          "metadata": {},
          "execution_count": 426
        }
      ]
    },
    {
      "cell_type": "code",
      "source": [
        "df2.Hobbyist.replace('Yes',1,inplace=True)\n",
        "df2.Hobbyist.replace('No',0,inplace=True)"
      ],
      "metadata": {
        "id": "8CJUya7goDH0"
      },
      "execution_count": null,
      "outputs": []
    },
    {
      "cell_type": "code",
      "source": [
        "df2['Gender'].mask(df2[\"Gender\"].str.contains(\";\", case=False, na=False) == 1,  \"OTHERS\", inplace=True)\n",
        "df2['Gender'].mask(df2[\"Gender\"].str.contains(\",\", case=False, na=False) == 1,  \"OTHERS\", inplace=True)"
      ],
      "metadata": {
        "id": "T8m0R5xft8b9"
      },
      "execution_count": null,
      "outputs": []
    },
    {
      "cell_type": "code",
      "source": [
        "z = df2.groupby([\"Gender\", \"Continent\"]).sum()"
      ],
      "metadata": {
        "id": "IbHrmG5oqy91"
      },
      "execution_count": null,
      "outputs": []
    },
    {
      "cell_type": "code",
      "source": [
        "z.Hobbyist"
      ],
      "metadata": {
        "colab": {
          "base_uri": "https://localhost:8080/"
        },
        "id": "X3m-uJ36rBuv",
        "outputId": "18a07a51-9f57-4711-caf8-468391c772ba"
      },
      "execution_count": null,
      "outputs": [
        {
          "output_type": "execute_result",
          "data": {
            "text/plain": [
              "Gender  Continent    \n",
              "Man     Africa             886\n",
              "        Asia              6164\n",
              "        Europe           17946\n",
              "        North America    12706\n",
              "        Oceania           1212\n",
              "        South America     1760\n",
              "OTHERS  Africa              10\n",
              "        Asia                53\n",
              "        Europe             170\n",
              "        North America      234\n",
              "        Oceania             22\n",
              "        South America       10\n",
              "Woman   Africa              49\n",
              "        Asia               274\n",
              "        Europe             848\n",
              "        North America      976\n",
              "        Oceania             58\n",
              "        South America       71\n",
              "Name: Hobbyist, dtype: int64"
            ]
          },
          "metadata": {},
          "execution_count": 442
        }
      ]
    },
    {
      "cell_type": "markdown",
      "source": [
        "# Generate the report for job and career satisfaction of developers based on their gender and continent.\n"
      ],
      "metadata": {
        "id": "kzPPpBW3wVzx"
      }
    },
    {
      "cell_type": "code",
      "source": [
        "schema_df[schema_df.Column == \"JobSat\"]"
      ],
      "metadata": {
        "colab": {
          "base_uri": "https://localhost:8080/",
          "height": 81
        },
        "id": "3a9HU_epvSsK",
        "outputId": "522ebfae-57c8-46d6-dd35-b2a26ed13f9b"
      },
      "execution_count": null,
      "outputs": [
        {
          "output_type": "execute_result",
          "data": {
            "text/plain": [
              "    Column                                       QuestionText\n",
              "17  JobSat  How satisfied are you with your current job? (..."
            ],
            "text/html": [
              "\n",
              "  <div id=\"df-7729803c-6429-443b-a044-cda3fb9f5710\">\n",
              "    <div class=\"colab-df-container\">\n",
              "      <div>\n",
              "<style scoped>\n",
              "    .dataframe tbody tr th:only-of-type {\n",
              "        vertical-align: middle;\n",
              "    }\n",
              "\n",
              "    .dataframe tbody tr th {\n",
              "        vertical-align: top;\n",
              "    }\n",
              "\n",
              "    .dataframe thead th {\n",
              "        text-align: right;\n",
              "    }\n",
              "</style>\n",
              "<table border=\"1\" class=\"dataframe\">\n",
              "  <thead>\n",
              "    <tr style=\"text-align: right;\">\n",
              "      <th></th>\n",
              "      <th>Column</th>\n",
              "      <th>QuestionText</th>\n",
              "    </tr>\n",
              "  </thead>\n",
              "  <tbody>\n",
              "    <tr>\n",
              "      <th>17</th>\n",
              "      <td>JobSat</td>\n",
              "      <td>How satisfied are you with your current job? (...</td>\n",
              "    </tr>\n",
              "  </tbody>\n",
              "</table>\n",
              "</div>\n",
              "      <button class=\"colab-df-convert\" onclick=\"convertToInteractive('df-7729803c-6429-443b-a044-cda3fb9f5710')\"\n",
              "              title=\"Convert this dataframe to an interactive table.\"\n",
              "              style=\"display:none;\">\n",
              "        \n",
              "  <svg xmlns=\"http://www.w3.org/2000/svg\" height=\"24px\"viewBox=\"0 0 24 24\"\n",
              "       width=\"24px\">\n",
              "    <path d=\"M0 0h24v24H0V0z\" fill=\"none\"/>\n",
              "    <path d=\"M18.56 5.44l.94 2.06.94-2.06 2.06-.94-2.06-.94-.94-2.06-.94 2.06-2.06.94zm-11 1L8.5 8.5l.94-2.06 2.06-.94-2.06-.94L8.5 2.5l-.94 2.06-2.06.94zm10 10l.94 2.06.94-2.06 2.06-.94-2.06-.94-.94-2.06-.94 2.06-2.06.94z\"/><path d=\"M17.41 7.96l-1.37-1.37c-.4-.4-.92-.59-1.43-.59-.52 0-1.04.2-1.43.59L10.3 9.45l-7.72 7.72c-.78.78-.78 2.05 0 2.83L4 21.41c.39.39.9.59 1.41.59.51 0 1.02-.2 1.41-.59l7.78-7.78 2.81-2.81c.8-.78.8-2.07 0-2.86zM5.41 20L4 18.59l7.72-7.72 1.47 1.35L5.41 20z\"/>\n",
              "  </svg>\n",
              "      </button>\n",
              "      \n",
              "  <style>\n",
              "    .colab-df-container {\n",
              "      display:flex;\n",
              "      flex-wrap:wrap;\n",
              "      gap: 12px;\n",
              "    }\n",
              "\n",
              "    .colab-df-convert {\n",
              "      background-color: #E8F0FE;\n",
              "      border: none;\n",
              "      border-radius: 50%;\n",
              "      cursor: pointer;\n",
              "      display: none;\n",
              "      fill: #1967D2;\n",
              "      height: 32px;\n",
              "      padding: 0 0 0 0;\n",
              "      width: 32px;\n",
              "    }\n",
              "\n",
              "    .colab-df-convert:hover {\n",
              "      background-color: #E2EBFA;\n",
              "      box-shadow: 0px 1px 2px rgba(60, 64, 67, 0.3), 0px 1px 3px 1px rgba(60, 64, 67, 0.15);\n",
              "      fill: #174EA6;\n",
              "    }\n",
              "\n",
              "    [theme=dark] .colab-df-convert {\n",
              "      background-color: #3B4455;\n",
              "      fill: #D2E3FC;\n",
              "    }\n",
              "\n",
              "    [theme=dark] .colab-df-convert:hover {\n",
              "      background-color: #434B5C;\n",
              "      box-shadow: 0px 1px 3px 1px rgba(0, 0, 0, 0.15);\n",
              "      filter: drop-shadow(0px 1px 2px rgba(0, 0, 0, 0.3));\n",
              "      fill: #FFFFFF;\n",
              "    }\n",
              "  </style>\n",
              "\n",
              "      <script>\n",
              "        const buttonEl =\n",
              "          document.querySelector('#df-7729803c-6429-443b-a044-cda3fb9f5710 button.colab-df-convert');\n",
              "        buttonEl.style.display =\n",
              "          google.colab.kernel.accessAllowed ? 'block' : 'none';\n",
              "\n",
              "        async function convertToInteractive(key) {\n",
              "          const element = document.querySelector('#df-7729803c-6429-443b-a044-cda3fb9f5710');\n",
              "          const dataTable =\n",
              "            await google.colab.kernel.invokeFunction('convertToInteractive',\n",
              "                                                     [key], {});\n",
              "          if (!dataTable) return;\n",
              "\n",
              "          const docLinkHtml = 'Like what you see? Visit the ' +\n",
              "            '<a target=\"_blank\" href=https://colab.research.google.com/notebooks/data_table.ipynb>data table notebook</a>'\n",
              "            + ' to learn more about interactive tables.';\n",
              "          element.innerHTML = '';\n",
              "          dataTable['output_type'] = 'display_data';\n",
              "          await google.colab.output.renderOutput(dataTable, element);\n",
              "          const docLink = document.createElement('div');\n",
              "          docLink.innerHTML = docLinkHtml;\n",
              "          element.appendChild(docLink);\n",
              "        }\n",
              "      </script>\n",
              "    </div>\n",
              "  </div>\n",
              "  "
            ]
          },
          "metadata": {},
          "execution_count": 443
        }
      ]
    },
    {
      "cell_type": "code",
      "source": [
        "df2.JobSat.unique()"
      ],
      "metadata": {
        "colab": {
          "base_uri": "https://localhost:8080/"
        },
        "id": "JiiDME_OwUNa",
        "outputId": "aa858900-f83e-4221-afec-fba13f2533e9"
      },
      "execution_count": null,
      "outputs": [
        {
          "output_type": "execute_result",
          "data": {
            "text/plain": [
              "array(['Slightly satisfied', 'Slightly dissatisfied', 'Very satisfied',\n",
              "       'Neither satisfied nor dissatisfied', 'Very dissatisfied', nan],\n",
              "      dtype=object)"
            ]
          },
          "metadata": {},
          "execution_count": 456
        }
      ]
    },
    {
      "cell_type": "code",
      "source": [
        "df2[\"Job Very satisfied\"] = df2.JobSat == \"Very satisfied\"\n",
        "df2[\"Job Slightly satisfied\"] = df2.JobSat == \"Slightly satisfied\"\n",
        "df2[\"Job Slightly dissatisfied\"] = df2.JobSat == \"Slightly dissatisfied\"\n",
        "df2[\"Job Neither satisfied nor dissatisfied\"] = df2.JobSat == \"Neither satisfied nor dissatisfied\"\n",
        "df2[\"Job Very dissatisfied\"] = df2.JobSat == \"Very dissatisfied\"\n"
      ],
      "metadata": {
        "id": "oYu0opspyLdh"
      },
      "execution_count": null,
      "outputs": []
    },
    {
      "cell_type": "code",
      "source": [
        "z = df2.groupby([\"Gender\", \"Continent\"]).sum()"
      ],
      "metadata": {
        "id": "sSGjBfdxwocH"
      },
      "execution_count": null,
      "outputs": []
    },
    {
      "cell_type": "code",
      "source": [
        "z[[\"Job Very satisfied\",\"Job Slightly satisfied\",\"Job Slightly dissatisfied\",\"Job Neither satisfied nor dissatisfied\",\"Job Very dissatisfied\"]]"
      ],
      "metadata": {
        "colab": {
          "base_uri": "https://localhost:8080/",
          "height": 689
        },
        "id": "DKvy9fzJw0YV",
        "outputId": "ca7ccca8-0a0b-4207-ce44-c98aa94b14fa"
      },
      "execution_count": null,
      "outputs": [
        {
          "output_type": "execute_result",
          "data": {
            "text/plain": [
              "                      Job Very satisfied  Job Slightly satisfied  \\\n",
              "Gender Continent                                                   \n",
              "Man    Africa                        273                     412   \n",
              "       Asia                         1654                    2803   \n",
              "       Europe                       6754                    7881   \n",
              "       North America                6208                    5123   \n",
              "       Oceania                       528                     496   \n",
              "       South America                 574                     767   \n",
              "OTHERS Africa                          1                       4   \n",
              "       Asia                           15                      22   \n",
              "       Europe                         74                      58   \n",
              "       North America                 106                      97   \n",
              "       Oceania                         8                       7   \n",
              "       South America                   0                       7   \n",
              "Woman  Africa                         21                      21   \n",
              "       Asia                          104                     146   \n",
              "       Europe                        455                     451   \n",
              "       North America                 756                     508   \n",
              "       Oceania                        35                      31   \n",
              "       South America                  33                      45   \n",
              "\n",
              "                      Job Slightly dissatisfied  \\\n",
              "Gender Continent                                  \n",
              "Man    Africa                               199   \n",
              "       Asia                                1524   \n",
              "       Europe                              3321   \n",
              "       North America                       2064   \n",
              "       Oceania                              207   \n",
              "       South America                        469   \n",
              "OTHERS Africa                                 1   \n",
              "       Asia                                   9   \n",
              "       Europe                                35   \n",
              "       North America                         46   \n",
              "       Oceania                                4   \n",
              "       South America                          5   \n",
              "Woman  Africa                                15   \n",
              "       Asia                                  89   \n",
              "       Europe                               216   \n",
              "       North America                        220   \n",
              "       Oceania                                9   \n",
              "       South America                         20   \n",
              "\n",
              "                      Job Neither satisfied nor dissatisfied  \\\n",
              "Gender Continent                                               \n",
              "Man    Africa                                            157   \n",
              "       Asia                                             1305   \n",
              "       Europe                                           2437   \n",
              "       North America                                    1364   \n",
              "       Oceania                                           144   \n",
              "       South America                                     308   \n",
              "OTHERS Africa                                              2   \n",
              "       Asia                                               14   \n",
              "       Europe                                             20   \n",
              "       North America                                      28   \n",
              "       Oceania                                             3   \n",
              "       South America                                       1   \n",
              "Woman  Africa                                             12   \n",
              "       Asia                                               63   \n",
              "       Europe                                            124   \n",
              "       North America                                     101   \n",
              "       Oceania                                             7   \n",
              "       South America                                      14   \n",
              "\n",
              "                      Job Very dissatisfied  \n",
              "Gender Continent                             \n",
              "Man    Africa                            94  \n",
              "       Asia                             665  \n",
              "       Europe                          1435  \n",
              "       North America                    941  \n",
              "       Oceania                           95  \n",
              "       South America                    206  \n",
              "OTHERS Africa                             3  \n",
              "       Asia                               6  \n",
              "       Europe                            20  \n",
              "       North America                     27  \n",
              "       Oceania                            1  \n",
              "       South America                      3  \n",
              "Woman  Africa                            17  \n",
              "       Asia                              49  \n",
              "       Europe                            89  \n",
              "       North America                     87  \n",
              "       Oceania                            5  \n",
              "       South America                     10  "
            ],
            "text/html": [
              "\n",
              "  <div id=\"df-a4824aaf-10bb-45a6-8a4f-1d7dac9ee777\">\n",
              "    <div class=\"colab-df-container\">\n",
              "      <div>\n",
              "<style scoped>\n",
              "    .dataframe tbody tr th:only-of-type {\n",
              "        vertical-align: middle;\n",
              "    }\n",
              "\n",
              "    .dataframe tbody tr th {\n",
              "        vertical-align: top;\n",
              "    }\n",
              "\n",
              "    .dataframe thead th {\n",
              "        text-align: right;\n",
              "    }\n",
              "</style>\n",
              "<table border=\"1\" class=\"dataframe\">\n",
              "  <thead>\n",
              "    <tr style=\"text-align: right;\">\n",
              "      <th></th>\n",
              "      <th></th>\n",
              "      <th>Job Very satisfied</th>\n",
              "      <th>Job Slightly satisfied</th>\n",
              "      <th>Job Slightly dissatisfied</th>\n",
              "      <th>Job Neither satisfied nor dissatisfied</th>\n",
              "      <th>Job Very dissatisfied</th>\n",
              "    </tr>\n",
              "    <tr>\n",
              "      <th>Gender</th>\n",
              "      <th>Continent</th>\n",
              "      <th></th>\n",
              "      <th></th>\n",
              "      <th></th>\n",
              "      <th></th>\n",
              "      <th></th>\n",
              "    </tr>\n",
              "  </thead>\n",
              "  <tbody>\n",
              "    <tr>\n",
              "      <th rowspan=\"6\" valign=\"top\">Man</th>\n",
              "      <th>Africa</th>\n",
              "      <td>273</td>\n",
              "      <td>412</td>\n",
              "      <td>199</td>\n",
              "      <td>157</td>\n",
              "      <td>94</td>\n",
              "    </tr>\n",
              "    <tr>\n",
              "      <th>Asia</th>\n",
              "      <td>1654</td>\n",
              "      <td>2803</td>\n",
              "      <td>1524</td>\n",
              "      <td>1305</td>\n",
              "      <td>665</td>\n",
              "    </tr>\n",
              "    <tr>\n",
              "      <th>Europe</th>\n",
              "      <td>6754</td>\n",
              "      <td>7881</td>\n",
              "      <td>3321</td>\n",
              "      <td>2437</td>\n",
              "      <td>1435</td>\n",
              "    </tr>\n",
              "    <tr>\n",
              "      <th>North America</th>\n",
              "      <td>6208</td>\n",
              "      <td>5123</td>\n",
              "      <td>2064</td>\n",
              "      <td>1364</td>\n",
              "      <td>941</td>\n",
              "    </tr>\n",
              "    <tr>\n",
              "      <th>Oceania</th>\n",
              "      <td>528</td>\n",
              "      <td>496</td>\n",
              "      <td>207</td>\n",
              "      <td>144</td>\n",
              "      <td>95</td>\n",
              "    </tr>\n",
              "    <tr>\n",
              "      <th>South America</th>\n",
              "      <td>574</td>\n",
              "      <td>767</td>\n",
              "      <td>469</td>\n",
              "      <td>308</td>\n",
              "      <td>206</td>\n",
              "    </tr>\n",
              "    <tr>\n",
              "      <th rowspan=\"6\" valign=\"top\">OTHERS</th>\n",
              "      <th>Africa</th>\n",
              "      <td>1</td>\n",
              "      <td>4</td>\n",
              "      <td>1</td>\n",
              "      <td>2</td>\n",
              "      <td>3</td>\n",
              "    </tr>\n",
              "    <tr>\n",
              "      <th>Asia</th>\n",
              "      <td>15</td>\n",
              "      <td>22</td>\n",
              "      <td>9</td>\n",
              "      <td>14</td>\n",
              "      <td>6</td>\n",
              "    </tr>\n",
              "    <tr>\n",
              "      <th>Europe</th>\n",
              "      <td>74</td>\n",
              "      <td>58</td>\n",
              "      <td>35</td>\n",
              "      <td>20</td>\n",
              "      <td>20</td>\n",
              "    </tr>\n",
              "    <tr>\n",
              "      <th>North America</th>\n",
              "      <td>106</td>\n",
              "      <td>97</td>\n",
              "      <td>46</td>\n",
              "      <td>28</td>\n",
              "      <td>27</td>\n",
              "    </tr>\n",
              "    <tr>\n",
              "      <th>Oceania</th>\n",
              "      <td>8</td>\n",
              "      <td>7</td>\n",
              "      <td>4</td>\n",
              "      <td>3</td>\n",
              "      <td>1</td>\n",
              "    </tr>\n",
              "    <tr>\n",
              "      <th>South America</th>\n",
              "      <td>0</td>\n",
              "      <td>7</td>\n",
              "      <td>5</td>\n",
              "      <td>1</td>\n",
              "      <td>3</td>\n",
              "    </tr>\n",
              "    <tr>\n",
              "      <th rowspan=\"6\" valign=\"top\">Woman</th>\n",
              "      <th>Africa</th>\n",
              "      <td>21</td>\n",
              "      <td>21</td>\n",
              "      <td>15</td>\n",
              "      <td>12</td>\n",
              "      <td>17</td>\n",
              "    </tr>\n",
              "    <tr>\n",
              "      <th>Asia</th>\n",
              "      <td>104</td>\n",
              "      <td>146</td>\n",
              "      <td>89</td>\n",
              "      <td>63</td>\n",
              "      <td>49</td>\n",
              "    </tr>\n",
              "    <tr>\n",
              "      <th>Europe</th>\n",
              "      <td>455</td>\n",
              "      <td>451</td>\n",
              "      <td>216</td>\n",
              "      <td>124</td>\n",
              "      <td>89</td>\n",
              "    </tr>\n",
              "    <tr>\n",
              "      <th>North America</th>\n",
              "      <td>756</td>\n",
              "      <td>508</td>\n",
              "      <td>220</td>\n",
              "      <td>101</td>\n",
              "      <td>87</td>\n",
              "    </tr>\n",
              "    <tr>\n",
              "      <th>Oceania</th>\n",
              "      <td>35</td>\n",
              "      <td>31</td>\n",
              "      <td>9</td>\n",
              "      <td>7</td>\n",
              "      <td>5</td>\n",
              "    </tr>\n",
              "    <tr>\n",
              "      <th>South America</th>\n",
              "      <td>33</td>\n",
              "      <td>45</td>\n",
              "      <td>20</td>\n",
              "      <td>14</td>\n",
              "      <td>10</td>\n",
              "    </tr>\n",
              "  </tbody>\n",
              "</table>\n",
              "</div>\n",
              "      <button class=\"colab-df-convert\" onclick=\"convertToInteractive('df-a4824aaf-10bb-45a6-8a4f-1d7dac9ee777')\"\n",
              "              title=\"Convert this dataframe to an interactive table.\"\n",
              "              style=\"display:none;\">\n",
              "        \n",
              "  <svg xmlns=\"http://www.w3.org/2000/svg\" height=\"24px\"viewBox=\"0 0 24 24\"\n",
              "       width=\"24px\">\n",
              "    <path d=\"M0 0h24v24H0V0z\" fill=\"none\"/>\n",
              "    <path d=\"M18.56 5.44l.94 2.06.94-2.06 2.06-.94-2.06-.94-.94-2.06-.94 2.06-2.06.94zm-11 1L8.5 8.5l.94-2.06 2.06-.94-2.06-.94L8.5 2.5l-.94 2.06-2.06.94zm10 10l.94 2.06.94-2.06 2.06-.94-2.06-.94-.94-2.06-.94 2.06-2.06.94z\"/><path d=\"M17.41 7.96l-1.37-1.37c-.4-.4-.92-.59-1.43-.59-.52 0-1.04.2-1.43.59L10.3 9.45l-7.72 7.72c-.78.78-.78 2.05 0 2.83L4 21.41c.39.39.9.59 1.41.59.51 0 1.02-.2 1.41-.59l7.78-7.78 2.81-2.81c.8-.78.8-2.07 0-2.86zM5.41 20L4 18.59l7.72-7.72 1.47 1.35L5.41 20z\"/>\n",
              "  </svg>\n",
              "      </button>\n",
              "      \n",
              "  <style>\n",
              "    .colab-df-container {\n",
              "      display:flex;\n",
              "      flex-wrap:wrap;\n",
              "      gap: 12px;\n",
              "    }\n",
              "\n",
              "    .colab-df-convert {\n",
              "      background-color: #E8F0FE;\n",
              "      border: none;\n",
              "      border-radius: 50%;\n",
              "      cursor: pointer;\n",
              "      display: none;\n",
              "      fill: #1967D2;\n",
              "      height: 32px;\n",
              "      padding: 0 0 0 0;\n",
              "      width: 32px;\n",
              "    }\n",
              "\n",
              "    .colab-df-convert:hover {\n",
              "      background-color: #E2EBFA;\n",
              "      box-shadow: 0px 1px 2px rgba(60, 64, 67, 0.3), 0px 1px 3px 1px rgba(60, 64, 67, 0.15);\n",
              "      fill: #174EA6;\n",
              "    }\n",
              "\n",
              "    [theme=dark] .colab-df-convert {\n",
              "      background-color: #3B4455;\n",
              "      fill: #D2E3FC;\n",
              "    }\n",
              "\n",
              "    [theme=dark] .colab-df-convert:hover {\n",
              "      background-color: #434B5C;\n",
              "      box-shadow: 0px 1px 3px 1px rgba(0, 0, 0, 0.15);\n",
              "      filter: drop-shadow(0px 1px 2px rgba(0, 0, 0, 0.3));\n",
              "      fill: #FFFFFF;\n",
              "    }\n",
              "  </style>\n",
              "\n",
              "      <script>\n",
              "        const buttonEl =\n",
              "          document.querySelector('#df-a4824aaf-10bb-45a6-8a4f-1d7dac9ee777 button.colab-df-convert');\n",
              "        buttonEl.style.display =\n",
              "          google.colab.kernel.accessAllowed ? 'block' : 'none';\n",
              "\n",
              "        async function convertToInteractive(key) {\n",
              "          const element = document.querySelector('#df-a4824aaf-10bb-45a6-8a4f-1d7dac9ee777');\n",
              "          const dataTable =\n",
              "            await google.colab.kernel.invokeFunction('convertToInteractive',\n",
              "                                                     [key], {});\n",
              "          if (!dataTable) return;\n",
              "\n",
              "          const docLinkHtml = 'Like what you see? Visit the ' +\n",
              "            '<a target=\"_blank\" href=https://colab.research.google.com/notebooks/data_table.ipynb>data table notebook</a>'\n",
              "            + ' to learn more about interactive tables.';\n",
              "          element.innerHTML = '';\n",
              "          dataTable['output_type'] = 'display_data';\n",
              "          await google.colab.output.renderOutput(dataTable, element);\n",
              "          const docLink = document.createElement('div');\n",
              "          docLink.innerHTML = docLinkHtml;\n",
              "          element.appendChild(docLink);\n",
              "        }\n",
              "      </script>\n",
              "    </div>\n",
              "  </div>\n",
              "  "
            ]
          },
          "metadata": {},
          "execution_count": 469
        }
      ]
    },
    {
      "cell_type": "code",
      "source": [
        ""
      ],
      "metadata": {
        "id": "AnqYwcDQw5VU"
      },
      "execution_count": null,
      "outputs": []
    }
  ]
}